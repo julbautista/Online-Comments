{
 "cells": [
  {
   "cell_type": "markdown",
   "metadata": {},
   "source": [
    "## Load Libraries and Create Function"
   ]
  },
  {
   "cell_type": "code",
   "execution_count": 1,
   "metadata": {
    "collapsed": true
   },
   "outputs": [],
   "source": [
    "import numpy as np\n",
    "import pandas as pd\n",
    "import matplotlib.pyplot as plt\n",
    "from sklearn.externals import joblib\n",
    "%matplotlib inline"
   ]
  },
  {
   "cell_type": "code",
   "execution_count": 2,
   "metadata": {
    "collapsed": true
   },
   "outputs": [],
   "source": [
    "class BinaryClassificationPerformance():\n",
    "    '''Performance measures to evaluate the fit of a binary classification model'''\n",
    "    \n",
    "    def __init__(self, predictions, labels, desc, probabilities=None):\n",
    "        '''Initialize attributes: predictions-vector of predicted values for Y, labels-vector of labels for Y'''\n",
    "        '''probabilities-optional, probability that Y is equal to True'''\n",
    "        self.probabilities = probabilities\n",
    "        self.performance_df = pd.concat([pd.DataFrame(predictions), pd.DataFrame(labels)], axis=1)\n",
    "        self.performance_df.columns = ['preds', 'labls']\n",
    "        self.desc = desc\n",
    "        self.performance_measures = {}\n",
    "  \n",
    "    def compute_measures(self):\n",
    "        '''Compute performance measures defined by Flach p. 57'''\n",
    "        self.performance_measures['Pos'] = self.performance_df['preds'].sum()\n",
    "        self.performance_measures['Neg'] = self.performance_df.shape[0] - self.performance_df['preds'].sum()\n",
    "        self.performance_measures['TP'] = ((self.performance_df['preds'] == True) & (self.performance_df['labls'] == True)).sum()\n",
    "        self.performance_measures['TN'] = ((self.performance_df['preds'] == False) & (self.performance_df['labls'] == False)).sum()\n",
    "        self.performance_measures['FP'] = ((self.performance_df['preds'] == True) & (self.performance_df['labls'] == False)).sum()\n",
    "        self.performance_measures['FN'] = ((self.performance_df['preds'] == False) & (self.performance_df['labls'] == True)).sum()\n",
    "        self.performance_measures['Accuracy'] = (self.performance_measures['TP'] + self.performance_measures['TN']) / (self.performance_measures['Pos'] + self.performance_measures['Neg'])"
   ]
  },
  {
   "cell_type": "code",
   "execution_count": 3,
   "metadata": {
    "collapsed": false
   },
   "outputs": [
    {
     "name": "stdout",
     "output_type": "stream",
     "text": [
      "(91000, 14)\n"
     ]
    }
   ],
   "source": [
    "amazon = pd.read_csv('raw_data_test.csv', encoding ='latin-1')\n",
    "print(amazon.shape)"
   ]
  },
  {
   "cell_type": "code",
   "execution_count": 4,
   "metadata": {
    "collapsed": false
   },
   "outputs": [
    {
     "name": "stdout",
     "output_type": "stream",
     "text": [
      "   Unnamed: 0  Unnamed: 0.1      Id   ProductId          UserId  \\\n",
      "0      288150        285340  285341  B005N29H36  A2YV9N5VCXSZLD   \n",
      "1      255129         72523   72524  B003ZXAN4C  A2GA55P7WGHJCP   \n",
      "2      385248         96069   96070  B004G5ZYN8  A1YHXGV6GC51IM   \n",
      "3       12269          1209    1210  B005O072PC  A2BJTZ5JZHAJ9B   \n",
      "4      173557        421393  421394  B001PBKZK8  A28QI87ZFODYC2   \n",
      "\n",
      "                          ProfileName  HelpfulnessNumerator  \\\n",
      "0                          AlaskanKid                     0   \n",
      "1                           domino113                     1   \n",
      "2  Americangirl \"TRUTH SETS YOU FREE\"                     0   \n",
      "3                Mona Osman \"zolwica\"                     9   \n",
      "4                   I. Ramirez \"suki\"                     6   \n",
      "\n",
      "   HelpfulnessDenominator  Score        Time  \\\n",
      "0                       0      5  1344297600   \n",
      "1                       6      3  1295395200   \n",
      "2                       0      2  1349568000   \n",
      "3                      10      4  1149984000   \n",
      "4                       6      4  1335052800   \n",
      "\n",
      "                                Summary  \\\n",
      "0               My dog's best friend!!!   \n",
      "1           Sent as gift, well-received   \n",
      "2  DOG LIKES BUT NOT IN LOVE- EXPENSIVE   \n",
      "3                          yum yum yum!   \n",
      "4                                 Great   \n",
      "\n",
      "                                                Text  helpScore helpful  \n",
      "0  These bones are amazing and my dogs love them....        NaN   False  \n",
      "1  The recipient enjoys having the snacks availab...   0.166667   False  \n",
      "2  BOUGHT ONE SIZED FOR MY DOG. SHE WAS INTERESTE...        NaN   False  \n",
      "3  They are more potato crockets in the shape of ...   0.900000    True  \n",
      "4  If you want to make restaurant style sushi thi...   1.000000    True  \n",
      "0.0730879120879\n"
     ]
    }
   ],
   "source": [
    "print(amazon.head())\n",
    "print(amazon['helpful'].mean())"
   ]
  },
  {
   "cell_type": "markdown",
   "metadata": {},
   "source": [
    "## Feature Extraction from Natural Language Libraries"
   ]
  },
  {
   "cell_type": "code",
   "execution_count": 5,
   "metadata": {
    "collapsed": false
   },
   "outputs": [],
   "source": [
    "# vectorize Bag of Words from review text; as sparse matrix\n",
    "#from sklearn.feature_extraction.text import HashingVectorizer\n",
    "#hv = HashingVectorizer(n_features=2 ** 17, non_negative=True)\n",
    "#X_hv = hv.fit_transform(amazon.Text)\n",
    "#print(X_hv.shape)"
   ]
  },
  {
   "cell_type": "code",
   "execution_count": 6,
   "metadata": {
    "collapsed": false
   },
   "outputs": [
    {
     "name": "stdout",
     "output_type": "stream",
     "text": [
      "(91000, 131072)\n"
     ]
    }
   ],
   "source": [
    "hv = joblib.load('hv.pkl') # pickle\n",
    "X_hv = hv.transform(amazon.Text)\n",
    "print(X_hv.shape)"
   ]
  },
  {
   "cell_type": "code",
   "execution_count": 7,
   "metadata": {
    "collapsed": false
   },
   "outputs": [],
   "source": [
    "#from sklearn.feature_extraction.text import TfidfTransformer\n",
    "#transformer = TfidfTransformer()\n",
    "#X_tfidf = transformer.fit_transform(X_hv)\n",
    "\n",
    "transformer = joblib.load('transformer.pkl')\n",
    "X_tfidf = transformer.transform(X_hv)"
   ]
  },
  {
   "cell_type": "code",
   "execution_count": 8,
   "metadata": {
    "collapsed": false
   },
   "outputs": [
    {
     "name": "stdout",
     "output_type": "stream",
     "text": [
      "<class 'scipy.sparse.csr.csr_matrix'>\n"
     ]
    }
   ],
   "source": [
    "print(type(X_tfidf))"
   ]
  },
  {
   "cell_type": "markdown",
   "metadata": {},
   "source": [
    "## Creating Additional Features"
   ]
  },
  {
   "cell_type": "code",
   "execution_count": 9,
   "metadata": {
    "collapsed": false
   },
   "outputs": [
    {
     "name": "stderr",
     "output_type": "stream",
     "text": [
      "C:\\Users\\Julian Bautista\\Anaconda3\\lib\\site-packages\\ipykernel\\__main__.py:23: SettingWithCopyWarning: \n",
      "A value is trying to be set on a copy of a slice from a DataFrame\n",
      "\n",
      "See the caveats in the documentation: http://pandas.pydata.org/pandas-docs/stable/indexing.html#indexing-view-versus-copy\n",
      "C:\\Users\\Julian Bautista\\Anaconda3\\lib\\site-packages\\ipykernel\\__main__.py:24: SettingWithCopyWarning: \n",
      "A value is trying to be set on a copy of a slice from a DataFrame\n",
      "\n",
      "See the caveats in the documentation: http://pandas.pydata.org/pandas-docs/stable/indexing.html#indexing-view-versus-copy\n",
      "C:\\Users\\Julian Bautista\\Anaconda3\\lib\\site-packages\\ipykernel\\__main__.py:25: SettingWithCopyWarning: \n",
      "A value is trying to be set on a copy of a slice from a DataFrame\n",
      "\n",
      "See the caveats in the documentation: http://pandas.pydata.org/pandas-docs/stable/indexing.html#indexing-view-versus-copy\n",
      "C:\\Users\\Julian Bautista\\Anaconda3\\lib\\site-packages\\ipykernel\\__main__.py:26: SettingWithCopyWarning: \n",
      "A value is trying to be set on a copy of a slice from a DataFrame\n",
      "\n",
      "See the caveats in the documentation: http://pandas.pydata.org/pandas-docs/stable/indexing.html#indexing-view-versus-copy\n",
      "C:\\Users\\Julian Bautista\\Anaconda3\\lib\\site-packages\\ipykernel\\__main__.py:27: SettingWithCopyWarning: \n",
      "A value is trying to be set on a copy of a slice from a DataFrame\n",
      "\n",
      "See the caveats in the documentation: http://pandas.pydata.org/pandas-docs/stable/indexing.html#indexing-view-versus-copy\n",
      "C:\\Users\\Julian Bautista\\Anaconda3\\lib\\site-packages\\ipykernel\\__main__.py:28: SettingWithCopyWarning: \n",
      "A value is trying to be set on a copy of a slice from a DataFrame\n",
      "\n",
      "See the caveats in the documentation: http://pandas.pydata.org/pandas-docs/stable/indexing.html#indexing-view-versus-copy\n",
      "C:\\Users\\Julian Bautista\\Anaconda3\\lib\\site-packages\\ipykernel\\__main__.py:29: SettingWithCopyWarning: \n",
      "A value is trying to be set on a copy of a slice from a DataFrame\n",
      "\n",
      "See the caveats in the documentation: http://pandas.pydata.org/pandas-docs/stable/indexing.html#indexing-view-versus-copy\n",
      "C:\\Users\\Julian Bautista\\Anaconda3\\lib\\site-packages\\ipykernel\\__main__.py:30: SettingWithCopyWarning: \n",
      "A value is trying to be set on a copy of a slice from a DataFrame\n",
      "\n",
      "See the caveats in the documentation: http://pandas.pydata.org/pandas-docs/stable/indexing.html#indexing-view-versus-copy\n",
      "C:\\Users\\Julian Bautista\\Anaconda3\\lib\\site-packages\\ipykernel\\__main__.py:31: SettingWithCopyWarning: \n",
      "A value is trying to be set on a copy of a slice from a DataFrame\n",
      "\n",
      "See the caveats in the documentation: http://pandas.pydata.org/pandas-docs/stable/indexing.html#indexing-view-versus-copy\n"
     ]
    },
    {
     "name": "stdout",
     "output_type": "stream",
     "text": [
      "   Score  reviewLen        Time  summaryLen  commCount  profileCaps  \\\n",
      "0      5        270  1344297600        23.0        2.0          2.0   \n",
      "1      3        157  1295395200        27.0        1.0          0.0   \n",
      "2      2        322  1349568000        36.0        5.0         17.0   \n",
      "3      4        105  1149984000        12.0        3.0          2.0   \n",
      "4      4        587  1335052800         5.0        1.0          2.0   \n",
      "5      5        229  1349740800        26.0        1.0          1.0   \n",
      "6      5        287  1274745600        24.0        1.0          3.0   \n",
      "7      5        230  1305244800        23.0        2.0          4.0   \n",
      "8      3       2093  1245196800         3.0        1.0          2.0   \n",
      "9      5        503  1315612800        41.0        1.0          5.0   \n",
      "\n",
      "   profileLen  summaryCaps  reviewCaps  profilePunc  summaryPunc  reviewPunc  \\\n",
      "0        10.0          1.0           4          0.0          4.0           4   \n",
      "1         9.0          1.0           5          0.0          2.0           4   \n",
      "2        34.0         29.0         246          2.0          1.0           9   \n",
      "3        20.0          0.0          12          2.0          1.0           2   \n",
      "4        17.0          1.0          13          3.0          0.0          43   \n",
      "5         6.0          0.0           3          0.0          0.0           3   \n",
      "6        13.0          1.0           4          1.0          0.0          19   \n",
      "7        42.0          1.0           4          2.0          0.0           3   \n",
      "8         9.0          1.0          37          0.0          0.0         135   \n",
      "9        14.0          1.0          17          2.0          2.0           7   \n",
      "\n",
      "   score_count  len_count  score_len  \n",
      "0         10.0      540.0       1350  \n",
      "1          3.0      157.0        471  \n",
      "2         10.0     1610.0        644  \n",
      "3         12.0      315.0        420  \n",
      "4          4.0      587.0       2348  \n",
      "5          5.0      229.0       1145  \n",
      "6          5.0      287.0       1435  \n",
      "7         10.0      460.0       1150  \n",
      "8          3.0     2093.0       6279  \n",
      "9          5.0      503.0       2515  \n",
      "<class 'pandas.core.frame.DataFrame'>\n"
     ]
    },
    {
     "name": "stderr",
     "output_type": "stream",
     "text": [
      "C:\\Users\\Julian Bautista\\Anaconda3\\lib\\site-packages\\ipykernel\\__main__.py:32: SettingWithCopyWarning: \n",
      "A value is trying to be set on a copy of a slice from a DataFrame\n",
      "\n",
      "See the caveats in the documentation: http://pandas.pydata.org/pandas-docs/stable/indexing.html#indexing-view-versus-copy\n"
     ]
    }
   ],
   "source": [
    "import re\n",
    "from string import punctuation\n",
    "\n",
    "# length features\n",
    "amazon['reviewLen'] = amazon['Text'].str.len()\n",
    "amazon['profileLen'] = amazon['ProfileName'].str.len() \n",
    "amazon['summaryLen'] = amazon['Summary'].str.len() \n",
    "\n",
    "#count number of reviews made by the same reviewer\n",
    "amazon['commCount'] = amazon.groupby('ProfileName')['ProfileName'].transform('count')\n",
    "\n",
    "#Capital letter Features\n",
    "amazon['profileCaps'] = amazon['ProfileName'][(np.isnan(amazon['profileLen'])) == 0].apply(lambda x: len(re.findall(\"[A-Z]\", x)))\n",
    "amazon['summaryCaps'] = amazon['Summary'][(np.isnan(amazon['summaryLen'])) == 0].apply(lambda x: len(re.findall(\"[A-Z]\", x)))\n",
    "amazon['reviewCaps'] = amazon['Text'][(np.isnan(amazon['reviewLen'])) == 0].apply(lambda x: len(re.findall(\"[A-Z]\", x)))\n",
    "\n",
    "#punctuation features\n",
    "amazon['profilePunc'] = amazon['ProfileName'][(np.isnan(amazon['profileLen'])) == 0].apply(lambda x: len(list(filter(lambda c: c in punctuation, x))))\n",
    "amazon['summaryPunc'] = amazon['Summary'][(np.isnan(amazon['summaryLen'])) == 0].apply(lambda x: len(list(filter(lambda c: c in punctuation, x))))\n",
    "amazon['reviewPunc'] = amazon['Text'][(np.isnan(amazon['reviewLen'])) == 0].apply(lambda x: len(list(filter(lambda c: c in punctuation, x))))\n",
    "\n",
    "#convert NaN's to 0\n",
    "amazon['profileLen'][(np.isnan(amazon['profileLen']))] = 0\n",
    "amazon['summaryLen'][(np.isnan(amazon['summaryLen']))] = 0\n",
    "amazon['reviewLen'][(np.isnan(amazon['reviewLen']))] = 0\n",
    "amazon['commCount'][(np.isnan(amazon['commCount']))] = 0\n",
    "amazon['profileCaps'][(np.isnan(amazon['profileCaps']))] = 0\n",
    "amazon['summaryCaps'][(np.isnan(amazon['summaryCaps']))] = 0\n",
    "amazon['reviewCaps'][(np.isnan(amazon['reviewCaps']))] = 0\n",
    "amazon['profilePunc'][(np.isnan(amazon['profilePunc']))] = 0\n",
    "amazon['summaryPunc'][(np.isnan(amazon['summaryPunc']))] = 0\n",
    "amazon['reviewPunc'][(np.isnan(amazon['reviewPunc']))] = 0\n",
    "\n",
    "#Interactions\n",
    "amazon['score_count'] = amazon['Score']*amazon['commCount']\n",
    "amazon['len_count'] = amazon['reviewLen']*amazon['commCount']\n",
    "amazon['score_len'] = amazon['Score']*amazon['reviewLen']\n",
    "\n",
    "X_quant_features = amazon[['Score', 'reviewLen', 'Time', 'summaryLen', 'commCount', 'profileCaps', 'profileLen', \n",
    "                            'summaryCaps', 'reviewCaps', 'profilePunc', 'summaryPunc', 'reviewPunc', 'score_count', 'len_count', 'score_len']]\n",
    "print(X_quant_features.head(10))\n",
    "print(type(X_quant_features))"
   ]
  },
  {
   "cell_type": "code",
   "execution_count": 10,
   "metadata": {
    "collapsed": false
   },
   "outputs": [
    {
     "name": "stdout",
     "output_type": "stream",
     "text": [
      "(91000, 131087)\n"
     ]
    }
   ],
   "source": [
    "from scipy.sparse import csr_matrix, hstack\n",
    "X_quant_features_csr = csr_matrix(X_quant_features)\n",
    "X_combined = hstack([X_tfidf, X_quant_features_csr])\n",
    "X_matrix = csr_matrix(X_combined) # convert to sparse matrix\n",
    "print(X_matrix.shape)"
   ]
  },
  {
   "cell_type": "code",
   "execution_count": 11,
   "metadata": {
    "collapsed": false
   },
   "outputs": [
    {
     "name": "stdout",
     "output_type": "stream",
     "text": [
      "(91000, 131087)\n"
     ]
    }
   ],
   "source": [
    "# feature scaling\n",
    "#from sklearn.preprocessing import StandardScaler\n",
    "#sc = StandardScaler(with_mean=False)\n",
    "#X = sc.fit_transform(X_matrix)\n",
    "#print(X.shape)\n",
    "\n",
    "sc = joblib.load('sc.pkl')\n",
    "X = sc.transform(X_matrix)\n",
    "print(X.shape)"
   ]
  },
  {
   "cell_type": "code",
   "execution_count": 12,
   "metadata": {
    "collapsed": false
   },
   "outputs": [
    {
     "name": "stdout",
     "output_type": "stream",
     "text": [
      "<class 'numpy.ndarray'>\n"
     ]
    }
   ],
   "source": [
    "y = amazon['helpful'].values\n",
    "print(type(y))"
   ]
  },
  {
   "cell_type": "markdown",
   "metadata": {},
   "source": [
    "## Create Models"
   ]
  },
  {
   "cell_type": "code",
   "execution_count": 13,
   "metadata": {
    "collapsed": false
   },
   "outputs": [
    {
     "name": "stdout",
     "output_type": "stream",
     "text": [
      "{'FP': 4144, 'FN': 4922, 'Neg': 85127, 'TN': 80205, 'TP': 1729, 'Accuracy': 0.90037362637362639, 'Pos': 5873}\n"
     ]
    }
   ],
   "source": [
    "#from sklearn import linear_model\n",
    "#svm = linear_model.SGDClassifier()\n",
    "#svm.fit(X, y)\n",
    "#joblib.dump(svm, 'svm.pkl') # pickle\n",
    "svm = joblib.load('svm.pkl') # pickle\n",
    "\n",
    "svm_performance = BinaryClassificationPerformance(svm.predict(X), y, 'svm')\n",
    "svm_performance.compute_measures()\n",
    "print(svm_performance.performance_measures)"
   ]
  },
  {
   "cell_type": "code",
   "execution_count": 14,
   "metadata": {
    "collapsed": false
   },
   "outputs": [
    {
     "name": "stdout",
     "output_type": "stream",
     "text": [
      "{'FP': 4420, 'FN': 4779, 'Neg': 84708, 'TN': 79929, 'TP': 1872, 'Accuracy': 0.89891208791208788, 'Pos': 6292}\n"
     ]
    }
   ],
   "source": [
    "# MODEL: logistic regression\n",
    "# from sklearn import linear_model\n",
    "# lgs = linear_model.SGDClassifier(loss='log', n_iter=50, alpha=0.00001)\n",
    "# lgs.fit(X, y)\n",
    "# joblib.dump(lgs, 'lgs.pkl') # pickle\n",
    "lgs = joblib.load('lgs.pkl')\n",
    "\n",
    "lgs_performance = BinaryClassificationPerformance(lgs.predict(X), y, 'lgs')\n",
    "lgs_performance.compute_measures()\n",
    "print(lgs_performance.performance_measures)"
   ]
  },
  {
   "cell_type": "code",
   "execution_count": 15,
   "metadata": {
    "collapsed": false
   },
   "outputs": [
    {
     "name": "stdout",
     "output_type": "stream",
     "text": [
      "{'FP': 12130, 'FN': 4041, 'Neg': 76260, 'TN': 72219, 'TP': 2610, 'Accuracy': 0.82229670329670335, 'Pos': 14740}\n"
     ]
    }
   ],
   "source": [
    "# MODEL: Naive Bayes\n",
    "# from sklearn.naive_bayes import MultinomialNB\n",
    "# nbs = MultinomialNB()\n",
    "# nbs.fit(X, y)\n",
    "# joblib.dump(nbs, 'nbs.pkl') # pickle\n",
    "nbs = joblib.load('nbs.pkl')\n",
    "\n",
    "nbs_performance = BinaryClassificationPerformance(nbs.predict(X), y, 'nbs')\n",
    "nbs_performance.compute_measures()\n",
    "print(nbs_performance.performance_measures)"
   ]
  },
  {
   "cell_type": "code",
   "execution_count": 16,
   "metadata": {
    "collapsed": false
   },
   "outputs": [
    {
     "name": "stdout",
     "output_type": "stream",
     "text": [
      "{'FP': 1228, 'FN': 5697, 'Neg': 88818, 'TN': 83121, 'TP': 954, 'Accuracy': 0.92390109890109895, 'Pos': 2182}\n"
     ]
    }
   ],
   "source": [
    "# MODEL: Ridge Regression Classifier\n",
    "# from sklearn import linear_model\n",
    "# rdg = linear_model.RidgeClassifier()\n",
    "# rdg.fit(X, y)\n",
    "# joblib.dump(rdg, 'rdg.pkl') # pickle\n",
    "rdg = joblib.load('rdg.pkl')\n",
    "\n",
    "rdg_performance = BinaryClassificationPerformance(rdg.predict(X), y, 'rdg')\n",
    "rdg_performance.compute_measures()\n",
    "print(rdg_performance.performance_measures)"
   ]
  },
  {
   "cell_type": "code",
   "execution_count": 17,
   "metadata": {
    "collapsed": false
   },
   "outputs": [
    {
     "name": "stdout",
     "output_type": "stream",
     "text": [
      "{'FP': 5865, 'FN': 4524, 'Neg': 83008, 'TN': 78484, 'TP': 2127, 'Accuracy': 0.88583516483516489, 'Pos': 7992}\n"
     ]
    }
   ],
   "source": [
    "# MODEL: Perceptron\n",
    "# from sklearn import linear_model\n",
    "# prc = linear_model.SGDClassifier(loss='perceptron')\n",
    "# prc.fit(X, y)\n",
    "# joblib.dump(prc, 'prc.pkl') # pickle\n",
    "prc = joblib.load('prc.pkl')\n",
    "\n",
    "prc_performance = BinaryClassificationPerformance(prc.predict(X), y, 'prc')\n",
    "prc_performance.compute_measures()\n",
    "print(prc_performance.performance_measures)"
   ]
  },
  {
   "cell_type": "code",
   "execution_count": 18,
   "metadata": {
    "collapsed": false
   },
   "outputs": [
    {
     "data": {
      "image/png": "[encoded data removed]",
      "text/plain": [
       "<matplotlib.figure.Figure at 0x1df9b307f98>"
      ]
     },
     "metadata": {},
     "output_type": "display_data"
    }
   ],
   "source": [
    "fits = [svm_performance, lgs_performance, nbs_performance, rdg_performance, prc_performance]\n",
    "\n",
    "for fit in fits:\n",
    "    plt.plot(fit.performance_measures['FP'] / fit.performance_measures['Neg'], \n",
    "             fit.performance_measures['TP'] / fit.performance_measures['Pos'], 'ro')\n",
    "    plt.text(fit.performance_measures['FP'] / fit.performance_measures['Neg'], \n",
    "             fit.performance_measures['TP'] / fit.performance_measures['Pos'], fit.desc)\n",
    "plt.axis([0, 1, 0, 1])\n",
    "plt.title('ROC plot: training set')\n",
    "plt.xlabel('False positive rate')\n",
    "plt.ylabel('True positive rate')\n",
    "plt.show()"
   ]
  }
 ],
 "metadata": {
  "anaconda-cloud": {},
  "kernelspec": {
   "display_name": "Python [default]",
   "language": "python",
   "name": "python3"
  },
  "language_info": {
   "codemirror_mode": {
    "name": "ipython",
    "version": 3
   },
   "file_extension": ".py",
   "mimetype": "text/x-python",
   "name": "python",
   "nbconvert_exporter": "python",
   "pygments_lexer": "ipython3",
   "version": "3.5.2"
  }
 },
 "nbformat": 4,
 "nbformat_minor": 1
}
