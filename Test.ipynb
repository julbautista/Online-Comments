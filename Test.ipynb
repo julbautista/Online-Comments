{
 "cells": [
  {
   "cell_type": "markdown",
   "metadata": {},
   "source": [
    "## Load Libraries and Create Function"
   ]
  },
  {
   "cell_type": "code",
   "execution_count": 1,
   "metadata": {
    "collapsed": true
   },
   "outputs": [],
   "source": [
    "import numpy as np\n",
    "import pandas as pd\n",
    "import matplotlib.pyplot as plt\n",
    "from sklearn.externals import joblib\n",
    "%matplotlib inline"
   ]
  },
  {
   "cell_type": "code",
   "execution_count": 2,
   "metadata": {
    "collapsed": true
   },
   "outputs": [],
   "source": [
    "class BinaryClassificationPerformance():\n",
    "    '''Performance measures to evaluate the fit of a binary classification model'''\n",
    "    \n",
    "    def __init__(self, predictions, labels, desc, probabilities=None):\n",
    "        '''Initialize attributes: predictions-vector of predicted values for Y, labels-vector of labels for Y'''\n",
    "        '''probabilities-optional, probability that Y is equal to True'''\n",
    "        self.probabilities = probabilities\n",
    "        self.performance_df = pd.concat([pd.DataFrame(predictions), pd.DataFrame(labels)], axis=1)\n",
    "        self.performance_df.columns = ['preds', 'labls']\n",
    "        self.desc = desc\n",
    "        self.performance_measures = {}\n",
    "        self.image_indices = {}\n",
    "  \n",
    "    def compute_measures(self):\n",
    "        '''Compute performance measures defined by Flach p. 57'''\n",
    "        self.performance_measures['Pos'] = self.performance_df['labls'].sum()\n",
    "        self.performance_measures['Neg'] = self.performance_df.shape[0] - self.performance_df['labls'].sum()\n",
    "        self.performance_measures['TP'] = ((self.performance_df['preds'] == True) & (self.performance_df['labls'] == True)).sum()\n",
    "        self.performance_measures['TN'] = ((self.performance_df['preds'] == False) & (self.performance_df['labls'] == False)).sum()\n",
    "        self.performance_measures['FP'] = ((self.performance_df['preds'] == True) & (self.performance_df['labls'] == False)).sum()\n",
    "        self.performance_measures['FN'] = ((self.performance_df['preds'] == False) & (self.performance_df['labls'] == True)).sum()\n",
    "        self.performance_measures['Accuracy'] = (self.performance_measures['TP'] + self.performance_measures['TN']) / (self.performance_measures['Pos'] + self.performance_measures['Neg'])\n",
    "        self.performance_measures['Precision'] = self.performance_measures['TP'] / (self.performance_measures['TP'] + self.performance_measures['FP'])\n",
    "        self.performance_measures['Recall'] = self.performance_measures['TP'] / self.performance_measures['Pos']\n",
    "\n",
    "    def img_indices(self):\n",
    "        '''Get the indices of true and false positives to be able to locate the corresponding images in a list of image names'''\n",
    "        self.performance_df['tp_ind'] = ((self.performance_df['preds'] == True) & (self.performance_df['labls'] == True))\n",
    "        self.performance_df['fp_ind'] = ((self.performance_df['preds'] == True) & (self.performance_df['labls'] == False))\n",
    "        self.image_indices['TP_indices'] = np.where(self.performance_df['tp_ind']==True)[0].tolist()\n",
    "        self.image_indices['FP_indices'] = np.where(self.performance_df['fp_ind']==True)[0].tolist()"
   ]
  },
  {
   "cell_type": "code",
   "execution_count": 3,
   "metadata": {
    "collapsed": false
   },
   "outputs": [
    {
     "name": "stdout",
     "output_type": "stream",
     "text": [
      "(91000, 14)\n"
     ]
    }
   ],
   "source": [
    "amazon = pd.read_csv('raw_data_test.csv', encoding ='latin-1')\n",
    "print(amazon.shape)"
   ]
  },
  {
   "cell_type": "code",
   "execution_count": 4,
   "metadata": {
    "collapsed": false
   },
   "outputs": [
    {
     "name": "stdout",
     "output_type": "stream",
     "text": [
      "   Unnamed: 0  Unnamed: 0.1      Id   ProductId          UserId  \\\n",
      "0      379768         87281   87282  B001EO616S  A2VZDQ8MCAAOYH   \n",
      "1      381612        407372  407373  B000UJREH8  A2QKSRK4JYWKOS   \n",
      "2      426150        221429  221430  B000BSW6K8  A2BCF2NFBHHIIQ   \n",
      "3      390844        433288  433289  B004DBT12A  A36MZGJVT077WL   \n",
      "4      431007        356446  356447  B003SSWCJI  A2D5DVBEYMM6ZP   \n",
      "\n",
      "                        ProfileName  HelpfulnessNumerator  \\\n",
      "0                             Hubby                     2   \n",
      "1                     greendayrules                     0   \n",
      "2            G. Perez \"BakerGirl81\"                     1   \n",
      "3                            Alsand                     6   \n",
      "4  Judith Galetta \"non-fiction fan\"                     6   \n",
      "\n",
      "   HelpfulnessDenominator  Score        Time              Summary  \\\n",
      "0                       4      5  1318982400          Great Stuff   \n",
      "1                       0      5  1332115200           Dog heaven   \n",
      "2                       1      5  1270512000        Cat loves it!   \n",
      "3                       6      2  1305331200           Very Light   \n",
      "4                       6      5  1266105600  Helps my leg cramps   \n",
      "\n",
      "                                                Text  helpScore helpful  \n",
      "0  My wife's been using this brand of honey in he...        0.5   False  \n",
      "1  My yorkie loves this toy! He can play with thi...        NaN   False  \n",
      "2  My very picky cat loves Greenies, they are the...        1.0   False  \n",
      "3  I decided to try a box because Costco carries ...        1.0    True  \n",
      "4  This is the only product that helps my leg cra...        1.0    True  \n",
      "0.0727582417582\n"
     ]
    }
   ],
   "source": [
    "print(amazon.head())\n",
    "print(amazon['helpful'].mean())"
   ]
  },
  {
   "cell_type": "markdown",
   "metadata": {},
   "source": [
    "## Feature Extraction from Natural Language Libraries"
   ]
  },
  {
   "cell_type": "code",
   "execution_count": 5,
   "metadata": {
    "collapsed": false
   },
   "outputs": [],
   "source": [
    "# vectorize Bag of Words from review text; as sparse matrix\n",
    "#from sklearn.feature_extraction.text import HashingVectorizer\n",
    "#hv = HashingVectorizer(n_features=2 ** 17, non_negative=True)\n",
    "#X_hv = hv.fit_transform(amazon.Text)\n",
    "#print(X_hv.shape)"
   ]
  },
  {
   "cell_type": "code",
   "execution_count": 5,
   "metadata": {
    "collapsed": false
   },
   "outputs": [
    {
     "name": "stdout",
     "output_type": "stream",
     "text": [
      "(91000, 131072)\n"
     ]
    }
   ],
   "source": [
    "hv = joblib.load('hv.pkl') # pickle\n",
    "X_hv = hv.transform(amazon.Text)\n",
    "print(X_hv.shape)"
   ]
  },
  {
   "cell_type": "code",
   "execution_count": 7,
   "metadata": {
    "collapsed": false
   },
   "outputs": [],
   "source": [
    "#from sklearn.feature_extraction.text import TfidfTransformer\n",
    "#transformer = TfidfTransformer()\n",
    "#X_tfidf = transformer.fit_transform(X_hv)\n",
    "\n",
    "transformer = joblib.load('transformer.pkl')\n",
    "X_tfidf = transformer.transform(X_hv)"
   ]
  },
  {
   "cell_type": "code",
   "execution_count": 8,
   "metadata": {
    "collapsed": false
   },
   "outputs": [
    {
     "name": "stdout",
     "output_type": "stream",
     "text": [
      "<class 'scipy.sparse.csr.csr_matrix'>\n"
     ]
    }
   ],
   "source": [
    "print(type(X_tfidf))"
   ]
  },
  {
   "cell_type": "markdown",
   "metadata": {},
   "source": [
    "## Creating Additional Features"
   ]
  },
  {
   "cell_type": "code",
   "execution_count": 9,
   "metadata": {
    "collapsed": false
   },
   "outputs": [
    {
     "name": "stderr",
     "output_type": "stream",
     "text": [
      "C:\\Users\\Julian Bautista\\Anaconda3\\lib\\site-packages\\ipykernel\\__main__.py:23: SettingWithCopyWarning: \n",
      "A value is trying to be set on a copy of a slice from a DataFrame\n",
      "\n",
      "See the caveats in the documentation: http://pandas.pydata.org/pandas-docs/stable/indexing.html#indexing-view-versus-copy\n",
      "C:\\Users\\Julian Bautista\\Anaconda3\\lib\\site-packages\\ipykernel\\__main__.py:24: SettingWithCopyWarning: \n",
      "A value is trying to be set on a copy of a slice from a DataFrame\n",
      "\n",
      "See the caveats in the documentation: http://pandas.pydata.org/pandas-docs/stable/indexing.html#indexing-view-versus-copy\n",
      "C:\\Users\\Julian Bautista\\Anaconda3\\lib\\site-packages\\ipykernel\\__main__.py:25: SettingWithCopyWarning: \n",
      "A value is trying to be set on a copy of a slice from a DataFrame\n",
      "\n",
      "See the caveats in the documentation: http://pandas.pydata.org/pandas-docs/stable/indexing.html#indexing-view-versus-copy\n",
      "C:\\Users\\Julian Bautista\\Anaconda3\\lib\\site-packages\\ipykernel\\__main__.py:26: SettingWithCopyWarning: \n",
      "A value is trying to be set on a copy of a slice from a DataFrame\n",
      "\n",
      "See the caveats in the documentation: http://pandas.pydata.org/pandas-docs/stable/indexing.html#indexing-view-versus-copy\n",
      "C:\\Users\\Julian Bautista\\Anaconda3\\lib\\site-packages\\ipykernel\\__main__.py:27: SettingWithCopyWarning: \n",
      "A value is trying to be set on a copy of a slice from a DataFrame\n",
      "\n",
      "See the caveats in the documentation: http://pandas.pydata.org/pandas-docs/stable/indexing.html#indexing-view-versus-copy\n",
      "C:\\Users\\Julian Bautista\\Anaconda3\\lib\\site-packages\\ipykernel\\__main__.py:28: SettingWithCopyWarning: \n",
      "A value is trying to be set on a copy of a slice from a DataFrame\n",
      "\n",
      "See the caveats in the documentation: http://pandas.pydata.org/pandas-docs/stable/indexing.html#indexing-view-versus-copy\n"
     ]
    },
    {
     "name": "stdout",
     "output_type": "stream",
     "text": [
      "   Score  reviewLen        Time  summaryLen  commCount  profileCaps  \\\n",
      "0      5        297  1318982400        11.0        2.0          1.0   \n",
      "1      5        155  1332115200        10.0        1.0          0.0   \n",
      "2      5        116  1270512000        13.0        1.0          4.0   \n",
      "3      2       1529  1305331200        10.0        6.0          1.0   \n",
      "4      5         87  1266105600        19.0        3.0          2.0   \n",
      "5      5        262  1284681600        17.0        1.0          0.0   \n",
      "6      3        789  1334620800        22.0        1.0          2.0   \n",
      "7      5        327  1296259200        42.0        1.0          2.0   \n",
      "8      5       1016  1303257600        28.0        1.0          7.0   \n",
      "9      5        242  1284163200        32.0        2.0          2.0   \n",
      "\n",
      "   profileLen  summaryCaps  reviewCaps  profilePunc  summaryPunc  reviewPunc  \\\n",
      "0         5.0          2.0           9          0.0          0.0           9   \n",
      "1        13.0          1.0           3          0.0          0.0           4   \n",
      "2        22.0          1.0           3          3.0          1.0           4   \n",
      "3         6.0          2.0          41          0.0          0.0          99   \n",
      "4        32.0          1.0           2          3.0          0.0           2   \n",
      "5        12.0          1.0           8          0.0          0.0          11   \n",
      "6         8.0          1.0          20          0.0          3.0          38   \n",
      "7        14.0          3.0           5          0.0          3.0           8   \n",
      "8         8.0          9.0          36          1.0          3.0          38   \n",
      "9         9.0          5.0           5          1.0          1.0           4   \n",
      "\n",
      "   score_count  len_count  score_len  \n",
      "0         10.0      594.0       1485  \n",
      "1          5.0      155.0        775  \n",
      "2          5.0      116.0        580  \n",
      "3         12.0     9174.0       3058  \n",
      "4         15.0      261.0        435  \n",
      "5          5.0      262.0       1310  \n",
      "6          3.0      789.0       2367  \n",
      "7          5.0      327.0       1635  \n",
      "8          5.0     1016.0       5080  \n",
      "9         10.0      484.0       1210  \n",
      "<class 'pandas.core.frame.DataFrame'>\n"
     ]
    },
    {
     "name": "stderr",
     "output_type": "stream",
     "text": [
      "C:\\Users\\Julian Bautista\\Anaconda3\\lib\\site-packages\\ipykernel\\__main__.py:29: SettingWithCopyWarning: \n",
      "A value is trying to be set on a copy of a slice from a DataFrame\n",
      "\n",
      "See the caveats in the documentation: http://pandas.pydata.org/pandas-docs/stable/indexing.html#indexing-view-versus-copy\n",
      "C:\\Users\\Julian Bautista\\Anaconda3\\lib\\site-packages\\ipykernel\\__main__.py:30: SettingWithCopyWarning: \n",
      "A value is trying to be set on a copy of a slice from a DataFrame\n",
      "\n",
      "See the caveats in the documentation: http://pandas.pydata.org/pandas-docs/stable/indexing.html#indexing-view-versus-copy\n",
      "C:\\Users\\Julian Bautista\\Anaconda3\\lib\\site-packages\\ipykernel\\__main__.py:31: SettingWithCopyWarning: \n",
      "A value is trying to be set on a copy of a slice from a DataFrame\n",
      "\n",
      "See the caveats in the documentation: http://pandas.pydata.org/pandas-docs/stable/indexing.html#indexing-view-versus-copy\n",
      "C:\\Users\\Julian Bautista\\Anaconda3\\lib\\site-packages\\ipykernel\\__main__.py:32: SettingWithCopyWarning: \n",
      "A value is trying to be set on a copy of a slice from a DataFrame\n",
      "\n",
      "See the caveats in the documentation: http://pandas.pydata.org/pandas-docs/stable/indexing.html#indexing-view-versus-copy\n"
     ]
    }
   ],
   "source": [
    "import re\n",
    "from string import punctuation\n",
    "\n",
    "# length features\n",
    "amazon['reviewLen'] = amazon['Text'].str.len()\n",
    "amazon['profileLen'] = amazon['ProfileName'].str.len() \n",
    "amazon['summaryLen'] = amazon['Summary'].str.len() \n",
    "\n",
    "#count number of reviews made by the same reviewer\n",
    "amazon['commCount'] = amazon.groupby('ProfileName')['ProfileName'].transform('count')\n",
    "\n",
    "#Capital letter Features\n",
    "amazon['profileCaps'] = amazon['ProfileName'][(np.isnan(amazon['profileLen'])) == 0].apply(lambda x: len(re.findall(\"[A-Z]\", x)))\n",
    "amazon['summaryCaps'] = amazon['Summary'][(np.isnan(amazon['summaryLen'])) == 0].apply(lambda x: len(re.findall(\"[A-Z]\", x)))\n",
    "amazon['reviewCaps'] = amazon['Text'][(np.isnan(amazon['reviewLen'])) == 0].apply(lambda x: len(re.findall(\"[A-Z]\", x)))\n",
    "\n",
    "#punctuation features\n",
    "amazon['profilePunc'] = amazon['ProfileName'][(np.isnan(amazon['profileLen'])) == 0].apply(lambda x: len(list(filter(lambda c: c in punctuation, x))))\n",
    "amazon['summaryPunc'] = amazon['Summary'][(np.isnan(amazon['summaryLen'])) == 0].apply(lambda x: len(list(filter(lambda c: c in punctuation, x))))\n",
    "amazon['reviewPunc'] = amazon['Text'][(np.isnan(amazon['reviewLen'])) == 0].apply(lambda x: len(list(filter(lambda c: c in punctuation, x))))\n",
    "\n",
    "#convert NaN's to 0\n",
    "amazon['profileLen'][(np.isnan(amazon['profileLen']))] = 0\n",
    "amazon['summaryLen'][(np.isnan(amazon['summaryLen']))] = 0\n",
    "amazon['reviewLen'][(np.isnan(amazon['reviewLen']))] = 0\n",
    "amazon['commCount'][(np.isnan(amazon['commCount']))] = 0\n",
    "amazon['profileCaps'][(np.isnan(amazon['profileCaps']))] = 0\n",
    "amazon['summaryCaps'][(np.isnan(amazon['summaryCaps']))] = 0\n",
    "amazon['reviewCaps'][(np.isnan(amazon['reviewCaps']))] = 0\n",
    "amazon['profilePunc'][(np.isnan(amazon['profilePunc']))] = 0\n",
    "amazon['summaryPunc'][(np.isnan(amazon['summaryPunc']))] = 0\n",
    "amazon['reviewPunc'][(np.isnan(amazon['reviewPunc']))] = 0\n",
    "\n",
    "#Interactions\n",
    "amazon['score_count'] = amazon['Score']*amazon['commCount']\n",
    "amazon['len_count'] = amazon['reviewLen']*amazon['commCount']\n",
    "amazon['score_len'] = amazon['Score']*amazon['reviewLen']\n",
    "\n",
    "X_quant_features = amazon[['Score', 'reviewLen', 'Time', 'summaryLen', 'commCount', 'profileCaps', 'profileLen', \n",
    "                            'summaryCaps', 'reviewCaps', 'profilePunc', 'summaryPunc', 'reviewPunc', 'score_count', 'len_count', 'score_len']]\n",
    "print(X_quant_features.head(10))\n",
    "print(type(X_quant_features))"
   ]
  },
  {
   "cell_type": "code",
   "execution_count": 10,
   "metadata": {
    "collapsed": false
   },
   "outputs": [
    {
     "name": "stdout",
     "output_type": "stream",
     "text": [
      "(91000, 131087)\n"
     ]
    }
   ],
   "source": [
    "from scipy.sparse import csr_matrix, hstack\n",
    "X_quant_features_csr = csr_matrix(X_quant_features)\n",
    "X_combined = hstack([X_tfidf, X_quant_features_csr])\n",
    "X_matrix = csr_matrix(X_combined) # convert to sparse matrix\n",
    "print(X_matrix.shape)"
   ]
  },
  {
   "cell_type": "code",
   "execution_count": 11,
   "metadata": {
    "collapsed": false
   },
   "outputs": [
    {
     "name": "stdout",
     "output_type": "stream",
     "text": [
      "(91000, 131087)\n"
     ]
    }
   ],
   "source": [
    "# feature scaling\n",
    "#from sklearn.preprocessing import StandardScaler\n",
    "#sc = StandardScaler(with_mean=False)\n",
    "#X = sc.fit_transform(X_matrix)\n",
    "#print(X.shape)\n",
    "\n",
    "sc = joblib.load('sc.pkl')\n",
    "X = sc.transform(X_matrix)\n",
    "print(X.shape)"
   ]
  },
  {
   "cell_type": "code",
   "execution_count": 12,
   "metadata": {
    "collapsed": false
   },
   "outputs": [
    {
     "name": "stdout",
     "output_type": "stream",
     "text": [
      "<class 'numpy.ndarray'>\n"
     ]
    }
   ],
   "source": [
    "y = amazon['helpful'].values\n",
    "print(type(y))"
   ]
  },
  {
   "cell_type": "markdown",
   "metadata": {},
   "source": [
    "## Run Models"
   ]
  },
  {
   "cell_type": "code",
   "execution_count": 13,
   "metadata": {
    "collapsed": false
   },
   "outputs": [
    {
     "name": "stdout",
     "output_type": "stream",
     "text": [
      "{'Recall': 0.27427880984745506, 'TP': 1816, 'Pos': 6621, 'FP': 4785, 'Neg': 84379, 'FN': 4805, 'Accuracy': 0.89461538461538459, 'Precision': 0.27510983184366006, 'TN': 79594}\n"
     ]
    }
   ],
   "source": [
    "#from sklearn import linear_model\n",
    "#svm = linear_model.SGDClassifier()\n",
    "#svm.fit(X, y)\n",
    "#joblib.dump(svm, 'svm.pkl') # pickle\n",
    "svm = joblib.load('svm.pkl') # pickle\n",
    "\n",
    "svm_performance = BinaryClassificationPerformance(svm.predict(X), y, 'svm')\n",
    "svm_performance.compute_measures()\n",
    "print(svm_performance.performance_measures)"
   ]
  },
  {
   "cell_type": "code",
   "execution_count": 14,
   "metadata": {
    "collapsed": false
   },
   "outputs": [
    {
     "name": "stdout",
     "output_type": "stream",
     "text": [
      "{'Recall': 0.310829179882193, 'TP': 2058, 'Pos': 6621, 'FP': 5418, 'Neg': 84379, 'FN': 4563, 'Accuracy': 0.8903186813186813, 'Precision': 0.2752808988764045, 'TN': 78961}\n"
     ]
    }
   ],
   "source": [
    "# MODEL: logistic regression\n",
    "# from sklearn import linear_model\n",
    "# lgs = linear_model.SGDClassifier(loss='log', n_iter=50, alpha=0.00001)\n",
    "# lgs.fit(X, y)\n",
    "# joblib.dump(lgs, 'lgs.pkl') # pickle\n",
    "lgs = joblib.load('lgs.pkl')\n",
    "\n",
    "lgs_performance = BinaryClassificationPerformance(lgs.predict(X), y, 'lgs')\n",
    "lgs_performance.compute_measures()\n",
    "print(lgs_performance.performance_measures)"
   ]
  },
  {
   "cell_type": "code",
   "execution_count": 15,
   "metadata": {
    "collapsed": false
   },
   "outputs": [
    {
     "name": "stdout",
     "output_type": "stream",
     "text": [
      "{'Recall': 0.3867995771031566, 'TP': 2561, 'Pos': 6621, 'FP': 11746, 'Neg': 84379, 'FN': 4060, 'Accuracy': 0.8263076923076923, 'Precision': 0.17900328510519325, 'TN': 72633}\n"
     ]
    }
   ],
   "source": [
    "# MODEL: Naive Bayes\n",
    "# from sklearn.naive_bayes import MultinomialNB\n",
    "# nbs = MultinomialNB()\n",
    "# nbs.fit(X, y)\n",
    "# joblib.dump(nbs, 'nbs.pkl') # pickle\n",
    "nbs = joblib.load('nbs.pkl')\n",
    "\n",
    "nbs_performance = BinaryClassificationPerformance(nbs.predict(X), y, 'nbs')\n",
    "nbs_performance.compute_measures()\n",
    "print(nbs_performance.performance_measures)"
   ]
  },
  {
   "cell_type": "code",
   "execution_count": 16,
   "metadata": {
    "collapsed": false
   },
   "outputs": [
    {
     "name": "stdout",
     "output_type": "stream",
     "text": [
      "{'Recall': 0.13970699290137442, 'TP': 925, 'Pos': 6621, 'FP': 1243, 'Neg': 84379, 'FN': 5696, 'Accuracy': 0.92374725274725278, 'Precision': 0.42666051660516607, 'TN': 83136}\n"
     ]
    }
   ],
   "source": [
    "# MODEL: Ridge Regression Classifier\n",
    "# from sklearn import linear_model\n",
    "# rdg = linear_model.RidgeClassifier()\n",
    "# rdg.fit(X, y)\n",
    "# joblib.dump(rdg, 'rdg.pkl') # pickle\n",
    "rdg = joblib.load('rdg.pkl')\n",
    "\n",
    "rdg_performance = BinaryClassificationPerformance(rdg.predict(X), y, 'rdg')\n",
    "rdg_performance.compute_measures()\n",
    "print(rdg_performance.performance_measures)"
   ]
  },
  {
   "cell_type": "code",
   "execution_count": 17,
   "metadata": {
    "collapsed": false
   },
   "outputs": [
    {
     "name": "stdout",
     "output_type": "stream",
     "text": [
      "{'Recall': 0.27458087902129585, 'TP': 1818, 'Pos': 6621, 'FP': 4524, 'Neg': 84379, 'FN': 4803, 'Accuracy': 0.89750549450549455, 'Precision': 0.28666035950804164, 'TN': 79855}\n"
     ]
    }
   ],
   "source": [
    "# MODEL: Perceptron\n",
    "# from sklearn import linear_model\n",
    "# prc = linear_model.SGDClassifier(loss='perceptron')\n",
    "# prc.fit(X, y)\n",
    "# joblib.dump(prc, 'prc.pkl') # pickle\n",
    "prc = joblib.load('prc.pkl')\n",
    "\n",
    "prc_performance = BinaryClassificationPerformance(prc.predict(X), y, 'prc')\n",
    "prc_performance.compute_measures()\n",
    "print(prc_performance.performance_measures)"
   ]
  },
  {
   "cell_type": "code",
   "execution_count": null,
   "metadata": {
    "collapsed": false
   },
   "outputs": [],
   "source": [
    "# MODEL: Multi-layer Perceptron aka neural network\n",
    "#from sklearn import neural_network\n",
    "#nn = neural_network.MLPClassifier(hidden_layer_sizes = (100,100,100))\n",
    "#nn.fit(X, y)\n",
    "#joblib.dump(nn, 'nn.pkl') # pickle\n",
    "nn = joblib.load('nn.pkl')\n",
    "\n",
    "nn_performance = BinaryClassificationPerformance(nn.predict(X), y, 'nn')\n",
    "nn_performance.compute_measures()\n",
    "print(nn_performance.performance_measures)"
   ]
  },
  {
   "cell_type": "code",
   "execution_count": 21,
   "metadata": {
    "collapsed": false
   },
   "outputs": [
    {
     "data": {
      "image/png": "[encoded data removed]",
      "text/plain": [
       "<matplotlib.figure.Figure at 0x1bf06468908>"
      ]
     },
     "metadata": {},
     "output_type": "display_data"
    }
   ],
   "source": [
    "fits = [svm_performance, lgs_performance, nbs_performance, rdg_performance, prc_performance, nn_performance]\n",
    "\n",
    "for fit in fits:\n",
    "    plt.plot(fit.performance_measures['FP'] / fit.performance_measures['Neg'], \n",
    "             fit.performance_measures['TP'] / fit.performance_measures['Pos'], 'ro')\n",
    "    plt.text(fit.performance_measures['FP'] / fit.performance_measures['Neg'], \n",
    "             fit.performance_measures['TP'] / fit.performance_measures['Pos'], fit.desc)\n",
    "plt.axis([0, 1, 0, 1])\n",
    "plt.title('ROC plot: training set')\n",
    "plt.xlabel('False positive rate')\n",
    "plt.ylabel('True positive rate')\n",
    "plt.show()"
   ]
  }
 ],
 "metadata": {
  "anaconda-cloud": {},
  "kernelspec": {
   "display_name": "Python [default]",
   "language": "python",
   "name": "python3"
  },
  "language_info": {
   "codemirror_mode": {
    "name": "ipython",
    "version": 3
   },
   "file_extension": ".py",
   "mimetype": "text/x-python",
   "name": "python",
   "nbconvert_exporter": "python",
   "pygments_lexer": "ipython3",
   "version": "3.5.2"
  }
 },
 "nbformat": 4,
 "nbformat_minor": 1
}
